{
 "cells": [
  {
   "cell_type": "code",
   "execution_count": 1,
   "id": "26905816",
   "metadata": {},
   "outputs": [
    {
     "name": "stdout",
     "output_type": "stream",
     "text": [
      "2\n",
      "2\n"
     ]
    }
   ],
   "source": [
    "\"\"\"Write a code to get the input in the given format and print the output in the given format\n",
    "Sample Input :2 Sample Output :2\"\"\"\n",
    "\n",
    "num=int(input() )\n",
    "print(num)"
   ]
  },
  {
   "cell_type": "code",
   "execution_count": 2,
   "id": "ce56eb49",
   "metadata": {},
   "outputs": [
    {
     "name": "stdout",
     "output_type": "stream",
     "text": [
      "2 3 4 5 6 7 8\n",
      "2 3 4 5 6 7 8\n"
     ]
    }
   ],
   "source": [
    "\"\"\"Write a code to get the input in the given format and print the output in the given format\n",
    "Sample Input : 2 3 4 5 6 7 8     Sample Output : 2 3 4 5 6 7 8\"\"\"\n",
    "\n",
    "arr = list(map(int,input().split()))\n",
    "print(*arr)"
   ]
  },
  {
   "cell_type": "code",
   "execution_count": 3,
   "id": "eaad011b",
   "metadata": {},
   "outputs": [
    {
     "name": "stdout",
     "output_type": "stream",
     "text": [
      "5 3\n",
      "1 2 3 4 5\n",
      "5 3\n",
      "1 2 3 4 5\n"
     ]
    }
   ],
   "source": [
    "\"\"\"Write a code to get the input in the given format and print the output in the given format.\n",
    "Sample Input :\n",
    "5 3\n",
    "1 2 3 4 5\n",
    "Sample Output :\n",
    "5 3\n",
    "1 2 3 4 5\n",
    "\"\"\"\n",
    "\n",
    "arr1 = list(map(int,input().split()))\n",
    "arr2 = list(map(int,input().split()))\n",
    "print(*arr1)\n",
    "print(*arr2)"
   ]
  },
  {
   "cell_type": "code",
   "execution_count": 4,
   "id": "b77077c0",
   "metadata": {},
   "outputs": [
    {
     "name": "stdout",
     "output_type": "stream",
     "text": [
      "2 4\n",
      "2 4\n",
      "2 4\n",
      "2 4\n",
      "2 4\n",
      "2 4\n"
     ]
    }
   ],
   "source": [
    "\"\"\"Write a code to get the input in the given format and print the output in the given format\n",
    "Sample Input :\n",
    "2 4\n",
    "2 4\n",
    "2 4\n",
    "Sample Output :\n",
    "2 4\n",
    "2 4\n",
    "2 4\n",
    "\"\"\"\n",
    "\n",
    "a=list(map(int,input().split()))\n",
    "b=list(map(int,input().split())) \n",
    "c=list(map(int,input().split())) \n",
    "print(*a)\n",
    "print(*b) \n",
    "print(*c)"
   ]
  },
  {
   "cell_type": "code",
   "execution_count": 5,
   "id": "0880946d",
   "metadata": {},
   "outputs": [
    {
     "name": "stdout",
     "output_type": "stream",
     "text": [
      "2\n",
      "4\n",
      "5\n",
      "2 4 5\n"
     ]
    }
   ],
   "source": [
    "\"\"\"Write a code to get the input in the given format and print the output in the given format\n",
    "Sample Input :\n",
    "2\n",
    "4\n",
    "5\n",
    "Sample Output :\n",
    "2 4 5\n",
    "\"\"\"\n",
    "\n",
    "a=int(input())\n",
    "b=int(input()) \n",
    "c=int(input())\n",
    "print(a,b,c)"
   ]
  },
  {
   "cell_type": "code",
   "execution_count": 6,
   "id": "6dc78539",
   "metadata": {},
   "outputs": [
    {
     "name": "stdout",
     "output_type": "stream",
     "text": [
      "2 5\n",
      "2 5 6\n",
      "2 4 5\n",
      "2 5\n",
      "2 5 6\n",
      "2 4 5\n"
     ]
    }
   ],
   "source": [
    "\"\"\"Write a code to get the input in the given format and print the output in the given format\n",
    "Sample Input :\n",
    "2 5\n",
    "2 5 6\n",
    "2 4 5\n",
    "Sample Output :\n",
    "2 5\n",
    "2 5 6\n",
    "2 4 5\n",
    "\"\"\"\n",
    "\n",
    "a=list(map(int,input().split()))\n",
    "b=list(map(int,input().split())) \n",
    "c=list(map(int,input().split())) \n",
    "print(*a)\n",
    "print(*b) \n",
    "print(*c)"
   ]
  },
  {
   "cell_type": "code",
   "execution_count": 7,
   "id": "5e369563",
   "metadata": {},
   "outputs": [
    {
     "name": "stdout",
     "output_type": "stream",
     "text": [
      "guvi\n",
      "g u v i\n"
     ]
    }
   ],
   "source": [
    "\"\"\"Write a code to get the input in the given format and print the output in the given format\n",
    "Sample Input :\n",
    "guvi\n",
    "Sample Output :\n",
    "g u v i\n",
    "\"\"\"\n",
    "\n",
    "a=input()\n",
    "n=len(a)\n",
    "for i in a[:n-1]:\n",
    "   print(i,end=' ')\n",
    "print(a[n-1])\n"
   ]
  },
  {
   "cell_type": "code",
   "execution_count": 8,
   "id": "4023bf7c",
   "metadata": {},
   "outputs": [
    {
     "name": "stdout",
     "output_type": "stream",
     "text": [
      "2.3 4.5 7.8\n",
      "2.3\n",
      "4.5\n",
      "7.8\n"
     ]
    }
   ],
   "source": [
    "\"\"\"Write a code to get the input in the given format and print the output in the given format.\n",
    "Sample Input :\n",
    "2.3 4.5 7.8\n",
    "Sample Output :\n",
    "2.3\n",
    "4.5\n",
    "7.8\n",
    "\"\"\"\n",
    "\n",
    "a=list(map(float,input().split()))\n",
    "print (*a,sep='\\n')"
   ]
  },
  {
   "cell_type": "code",
   "execution_count": 9,
   "id": "3589c36f",
   "metadata": {},
   "outputs": [
    {
     "name": "stdout",
     "output_type": "stream",
     "text": [
      "guvigeek\n",
      "g\n",
      "u\n",
      "v\n",
      "i\n",
      "g\n",
      "e\n",
      "e\n",
      "k\n"
     ]
    }
   ],
   "source": [
    "\"\"\"Write a code to get the input in the given format and print the output in the given format.\n",
    "Sample Input :\n",
    "guvigeek\n",
    "Sample Output :\n",
    "g\n",
    "u\n",
    "v\n",
    "i\n",
    "g\n",
    "e\n",
    "e\n",
    "k\n",
    "\"\"\"\n",
    "\n",
    "a=input()\n",
    "for i in a:\n",
    "    print (i)"
   ]
  },
  {
   "cell_type": "code",
   "execution_count": 10,
   "id": "633c2d60",
   "metadata": {},
   "outputs": [
    {
     "name": "stdout",
     "output_type": "stream",
     "text": [
      "guvi\n",
      "g,u,v,i\n"
     ]
    }
   ],
   "source": [
    "\"\"\"Write a code to get the input in the given format and print the output in the given format.\n",
    "Sample Input :\n",
    "guvi\n",
    "Sample Output :\n",
    "g,u,v,i\n",
    "\"\"\"\n",
    "\n",
    "a=input()\n",
    "n=len(a)\n",
    "for i in a[:n-1]:\n",
    "    print(i,end=\",\")\n",
    "print(a[n-1])"
   ]
  }
 ],
 "metadata": {
  "kernelspec": {
   "display_name": "Python 3 (ipykernel)",
   "language": "python",
   "name": "python3"
  },
  "language_info": {
   "codemirror_mode": {
    "name": "ipython",
    "version": 3
   },
   "file_extension": ".py",
   "mimetype": "text/x-python",
   "name": "python",
   "nbconvert_exporter": "python",
   "pygments_lexer": "ipython3",
   "version": "3.10.9"
  }
 },
 "nbformat": 4,
 "nbformat_minor": 5
}
